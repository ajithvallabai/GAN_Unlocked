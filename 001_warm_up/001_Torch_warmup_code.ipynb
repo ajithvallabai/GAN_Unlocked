{
  "nbformat": 4,
  "nbformat_minor": 0,
  "metadata": {
    "colab": {
      "name": "001_Torch_warmup_code.ipynb",
      "provenance": [],
      "collapsed_sections": [
        "7CTSyx8DENU6",
        "Wosq6MNBEIzK"
      ]
    },
    "kernelspec": {
      "name": "python3",
      "display_name": "Python 3"
    },
    "accelerator": "GPU"
  },
  "cells": [
    {
      "cell_type": "markdown",
      "metadata": {
        "id": "MKj5y7i2Ect9"
      },
      "source": [
        "Note book explains method to run a neural network model\n",
        "\n",
        "Method 1: Normal method of loss caculation in pytorch\n",
        "\n",
        "Method 2: Using pytorch auto grad\n"
      ]
    },
    {
      "cell_type": "code",
      "metadata": {
        "id": "jB1IEp7KzXoh"
      },
      "source": [
        "import torch\n",
        "import math \n",
        "\n",
        "dtype = torch.float\n",
        "device = torch.device(\"cpu\")"
      ],
      "execution_count": 1,
      "outputs": []
    },
    {
      "cell_type": "code",
      "metadata": {
        "id": "5WmsPOsfzYoB"
      },
      "source": [
        "x = torch.linspace(-math.pi, math.pi, 2000, device=device, dtype=dtype)\n",
        "y = torch.sin(x)"
      ],
      "execution_count": 8,
      "outputs": []
    },
    {
      "cell_type": "code",
      "metadata": {
        "id": "Cb38aC21zlzH"
      },
      "source": [
        "a = torch.randn((), device=device,dtype=dtype)\n",
        "b = torch.randn((), device=device, dtype=dtype)\n",
        "c = torch.randn((), device=device, dtype=dtype)\n",
        "d = torch.randn((), device=device, dtype=dtype)\n"
      ],
      "execution_count": 31,
      "outputs": []
    },
    {
      "cell_type": "code",
      "metadata": {
        "id": "ux3AiSGIzl_f"
      },
      "source": [
        "learning_rate = 1e-6"
      ],
      "execution_count": 32,
      "outputs": []
    },
    {
      "cell_type": "markdown",
      "metadata": {
        "id": "7CTSyx8DENU6"
      },
      "source": [
        "# Method 1: normal method of loss calculation"
      ]
    },
    {
      "cell_type": "code",
      "metadata": {
        "colab": {
          "base_uri": "https://localhost:8080/"
        },
        "id": "TBv_SwVH6Bsf",
        "outputId": "0714815e-ad2d-44be-9a3c-6b67dc64f835"
      },
      "source": [
        "#method 1 : normal method of loss calculation\n",
        "for t in range(2000):\n",
        "  y_pred = a+ (b*x) + (c*x**2) + (d*x**3)\n",
        "  loss = (y_pred-y).pow(2).sum().item()\n",
        "  if t%100 == 99:\n",
        "    print(t, loss)\n",
        "\n",
        "  grad_y_pred = 2.0*(y_pred-y)\n",
        "  grad_a = grad_y_pred.sum()\n",
        "  grad_b = (grad_y_pred*x).sum()\n",
        "  grad_c = (grad_y_pred*x **2).sum()\n",
        "  grad_d = (grad_y_pred*x **3).sum()\n",
        "\n",
        "  a -= learning_rate*grad_a\n",
        "  b -= learning_rate*grad_b \n",
        "  c -= learning_rate*grad_c \n",
        "  d -= learning_rate*grad_d \n",
        "print(f'Result: y={a.item()} + {b.item()}x + {c.item()}x^2 + {d.item()}x^3')"
      ],
      "execution_count": 34,
      "outputs": [
        {
          "output_type": "stream",
          "text": [
            "99 2178.72021484375\n",
            "199 1522.4300537109375\n",
            "299 1065.43212890625\n",
            "399 746.9468994140625\n",
            "499 524.8175048828125\n",
            "599 369.77471923828125\n",
            "699 261.4778137207031\n",
            "799 185.7804718017578\n",
            "899 132.83395385742188\n",
            "999 95.77668762207031\n",
            "1099 69.82437896728516\n",
            "1199 51.638702392578125\n",
            "1299 38.88827133178711\n",
            "1399 29.943876266479492\n",
            "1499 23.666202545166016\n",
            "1599 19.258159637451172\n",
            "1699 16.161455154418945\n",
            "1799 13.985074043273926\n",
            "1899 12.454891204833984\n",
            "1999 11.378609657287598\n",
            "Result: y=-0.05162648856639862 + 0.8436063528060913x + 0.008906426839530468x^2 + -0.09146212041378021x^3\n"
          ],
          "name": "stdout"
        }
      ]
    },
    {
      "cell_type": "markdown",
      "metadata": {
        "id": "Wosq6MNBEIzK"
      },
      "source": [
        "# Method 2 : Using pytorch auto grad"
      ]
    },
    {
      "cell_type": "code",
      "metadata": {
        "id": "PAx0B64V88vo"
      },
      "source": [
        "# \n",
        "p=torch.tensor([1,2,3])\n",
        "\n",
        "#changing the dimension to 1 and then making powers with p\n",
        "xx = x.unsqueeze(-1).pow(p)"
      ],
      "execution_count": 47,
      "outputs": []
    },
    {
      "cell_type": "code",
      "metadata": {
        "id": "NXG5HJej9pLM"
      },
      "source": [
        "model = torch.nn.Sequential(torch.nn.Linear(3,1),torch.nn.Flatten(0,1))"
      ],
      "execution_count": 57,
      "outputs": []
    },
    {
      "cell_type": "code",
      "metadata": {
        "id": "K97Ulrga9pUj"
      },
      "source": [
        "loss_fn = torch.nn.MSELoss(reduction='sum')"
      ],
      "execution_count": 58,
      "outputs": []
    },
    {
      "cell_type": "code",
      "metadata": {
        "id": "71twBX2O9pe_"
      },
      "source": [
        "learning_rate = 1e-3 \n",
        "optimizer=torch.optim.RMSprop(model.parameters(),lr=learning_rate)"
      ],
      "execution_count": 60,
      "outputs": []
    },
    {
      "cell_type": "code",
      "metadata": {
        "colab": {
          "base_uri": "https://localhost:8080/"
        },
        "id": "qiNXA8z29po_",
        "outputId": "7750dc01-4b78-441f-f34c-5ea443b419de"
      },
      "source": [
        "for t in range(2000):\n",
        "  y_pred = model(xx)\n",
        "  loss = loss_fn(y_pred,y)\n",
        "  if t%100 ==99:\n",
        "    print(t, loss.item())\n",
        "  optimizer.zero_grad()\n",
        "  loss.backward()\n",
        "  optimizer.step()\n",
        "  "
      ],
      "execution_count": 61,
      "outputs": [
        {
          "output_type": "stream",
          "text": [
            "99 2894.5888671875\n",
            "199 1410.821533203125\n",
            "299 1171.56689453125\n",
            "399 1004.4307861328125\n",
            "499 834.5474853515625\n",
            "599 674.5172729492188\n",
            "699 531.3242797851562\n",
            "799 407.12969970703125\n",
            "899 301.95257568359375\n",
            "999 214.9969024658203\n",
            "1099 145.46099853515625\n",
            "1199 92.28651428222656\n",
            "1299 54.227684020996094\n",
            "1399 29.702014923095703\n",
            "1499 16.084888458251953\n",
            "1599 10.485542297363281\n",
            "1699 9.13093376159668\n",
            "1799 8.928041458129883\n",
            "1899 8.899714469909668\n",
            "1999 8.914240837097168\n"
          ],
          "name": "stdout"
        }
      ]
    },
    {
      "cell_type": "code",
      "metadata": {
        "id": "AVpmd5U1BzAz"
      },
      "source": [
        "linear_layer = model[0]\n"
      ],
      "execution_count": 62,
      "outputs": []
    },
    {
      "cell_type": "code",
      "metadata": {
        "id": "arY16r8-DzjB"
      },
      "source": [
        ""
      ],
      "execution_count": null,
      "outputs": []
    },
    {
      "cell_type": "code",
      "metadata": {
        "colab": {
          "base_uri": "https://localhost:8080/"
        },
        "id": "N6KCHXyN9pyv",
        "outputId": "c5ef2754-eea6-4af0-d849-e3d97f80d690"
      },
      "source": [
        "linear_layer.weight[:,0]"
      ],
      "execution_count": 70,
      "outputs": [
        {
          "output_type": "execute_result",
          "data": {
            "text/plain": [
              "tensor([0.8563], grad_fn=<SelectBackward>)"
            ]
          },
          "metadata": {
            "tags": []
          },
          "execution_count": 70
        }
      ]
    },
    {
      "cell_type": "code",
      "metadata": {
        "id": "EtTz6fFn9p8H"
      },
      "source": [
        ""
      ],
      "execution_count": null,
      "outputs": []
    },
    {
      "cell_type": "code",
      "metadata": {
        "id": "DkSYL8dx9qFP"
      },
      "source": [
        ""
      ],
      "execution_count": null,
      "outputs": []
    }
  ]
}